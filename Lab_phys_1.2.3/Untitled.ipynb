{
 "cells": [
  {
   "cell_type": "code",
   "execution_count": 1,
   "id": "be2aba08-61f6-4bc2-8668-8853d0ad7708",
   "metadata": {},
   "outputs": [],
   "source": [
    "import pandas as pd\n",
    "import matplotlib.pyplot as plt\n",
    "import numpy as np"
   ]
  },
  {
   "cell_type": "code",
   "execution_count": 2,
   "id": "ccfa2b6a-6030-4965-96b4-f9dfcd6b0260",
   "metadata": {},
   "outputs": [
    {
     "data": {
      "text/html": [
       "<div>\n",
       "<style scoped>\n",
       "    .dataframe tbody tr th:only-of-type {\n",
       "        vertical-align: middle;\n",
       "    }\n",
       "\n",
       "    .dataframe tbody tr th {\n",
       "        vertical-align: top;\n",
       "    }\n",
       "\n",
       "    .dataframe thead th {\n",
       "        text-align: right;\n",
       "    }\n",
       "</style>\n",
       "<table border=\"1\" class=\"dataframe\">\n",
       "  <thead>\n",
       "    <tr style=\"text-align: right;\">\n",
       "      <th></th>\n",
       "      <th>name</th>\n",
       "      <th>t</th>\n",
       "      <th>k</th>\n",
       "    </tr>\n",
       "  </thead>\n",
       "  <tbody>\n",
       "    <tr>\n",
       "      <th>0</th>\n",
       "      <td>p</td>\n",
       "      <td>4.424667</td>\n",
       "      <td>15</td>\n",
       "    </tr>\n",
       "    <tr>\n",
       "      <th>1</th>\n",
       "      <td>p</td>\n",
       "      <td>4.412000</td>\n",
       "      <td>15</td>\n",
       "    </tr>\n",
       "    <tr>\n",
       "      <th>2</th>\n",
       "      <td>pr</td>\n",
       "      <td>4.182667</td>\n",
       "      <td>15</td>\n",
       "    </tr>\n",
       "    <tr>\n",
       "      <th>3</th>\n",
       "      <td>pr</td>\n",
       "      <td>4.187333</td>\n",
       "      <td>15</td>\n",
       "    </tr>\n",
       "    <tr>\n",
       "      <th>4</th>\n",
       "      <td>pd</td>\n",
       "      <td>3.953333</td>\n",
       "      <td>15</td>\n",
       "    </tr>\n",
       "    <tr>\n",
       "      <th>5</th>\n",
       "      <td>pd</td>\n",
       "      <td>3.949333</td>\n",
       "      <td>15</td>\n",
       "    </tr>\n",
       "    <tr>\n",
       "      <th>6</th>\n",
       "      <td>pb</td>\n",
       "      <td>3.763333</td>\n",
       "      <td>15</td>\n",
       "    </tr>\n",
       "    <tr>\n",
       "      <th>7</th>\n",
       "      <td>pb</td>\n",
       "      <td>3.760667</td>\n",
       "      <td>15</td>\n",
       "    </tr>\n",
       "    <tr>\n",
       "      <th>8</th>\n",
       "      <td>prd</td>\n",
       "      <td>3.915333</td>\n",
       "      <td>15</td>\n",
       "    </tr>\n",
       "    <tr>\n",
       "      <th>9</th>\n",
       "      <td>prd</td>\n",
       "      <td>3.930000</td>\n",
       "      <td>15</td>\n",
       "    </tr>\n",
       "    <tr>\n",
       "      <th>10</th>\n",
       "      <td>pbd</td>\n",
       "      <td>3.598000</td>\n",
       "      <td>15</td>\n",
       "    </tr>\n",
       "    <tr>\n",
       "      <th>11</th>\n",
       "      <td>pbd</td>\n",
       "      <td>3.606000</td>\n",
       "      <td>15</td>\n",
       "    </tr>\n",
       "    <tr>\n",
       "      <th>12</th>\n",
       "      <td>pbr</td>\n",
       "      <td>3.791333</td>\n",
       "      <td>15</td>\n",
       "    </tr>\n",
       "    <tr>\n",
       "      <th>13</th>\n",
       "      <td>pbr</td>\n",
       "      <td>3.775333</td>\n",
       "      <td>15</td>\n",
       "    </tr>\n",
       "  </tbody>\n",
       "</table>\n",
       "</div>"
      ],
      "text/plain": [
       "   name         t   k\n",
       "0     p  4.424667  15\n",
       "1     p  4.412000  15\n",
       "2    pr  4.182667  15\n",
       "3    pr  4.187333  15\n",
       "4    pd  3.953333  15\n",
       "5    pd  3.949333  15\n",
       "6    pb  3.763333  15\n",
       "7    pb  3.760667  15\n",
       "8   prd  3.915333  15\n",
       "9   prd  3.930000  15\n",
       "10  pbd  3.598000  15\n",
       "11  pbd  3.606000  15\n",
       "12  pbr  3.791333  15\n",
       "13  pbr  3.775333  15"
      ]
     },
     "execution_count": 2,
     "metadata": {},
     "output_type": "execute_result"
    }
   ],
   "source": [
    "dat=pd.read_excel('exp.xlsx')\n",
    "dat.t/=dat.k\n",
    "dat"
   ]
  },
  {
   "cell_type": "code",
   "execution_count": 3,
   "id": "5a473351-fe2b-4bad-9c6b-d68946170c39",
   "metadata": {},
   "outputs": [
    {
     "name": "stdout",
     "output_type": "stream",
     "text": [
      "{'p': np.float64(4.418333333333334), 'pr': np.float64(4.1850000000000005), 'pd': np.float64(3.9513333333333334), 'pb': np.float64(3.762), 'prd': np.float64(3.9226666666666667), 'pbd': np.float64(3.6020000000000003), 'pbr': np.float64(3.783333333333333)}\n",
      "{'p': np.float64(0.0020271639143785536), 'pr': np.float64(0.0007884902378821644), 'pd': np.float64(0.0007158158743240792), 'pb': np.float64(0.0005012275606497998), 'prd': np.float64(0.0026438390866934426), 'pbd': np.float64(0.0015704759160168513), 'pbr': np.float64(0.002990407532771222)}\n"
     ]
    }
   ],
   "source": [
    "ts=dict()\n",
    "tsig=dict()\n",
    "for i in dat.name:\n",
    "    ts[i]=0\n",
    "    tsig[i]=0\n",
    "for i in range(14):\n",
    "    ts[dat.name[i]]+=dat.t[i]/2\n",
    "for i in range(7):\n",
    "    tsig[dat.name[2*i]]=np.sqrt((dat.t[2*i]-ts[dat.name[2*i]])**2+(dat.t[2*i+1]-ts[dat.name[2*i]])**2)/ts[dat.name[2*i]]\n",
    "print(ts)\n",
    "print(tsig)"
   ]
  },
  {
   "cell_type": "code",
   "execution_count": 4,
   "id": "12232a32-6cfb-4f0e-8212-fb336e1821de",
   "metadata": {},
   "outputs": [
    {
     "data": {
      "text/plain": [
       "(np.float64(4.418333333333334), np.float64(0.008956685895029244))"
      ]
     },
     "execution_count": 4,
     "metadata": {},
     "output_type": "execute_result"
    }
   ],
   "source": [
    "ts['p'],ts['p']*tsig['p']"
   ]
  },
  {
   "cell_type": "code",
   "execution_count": 5,
   "id": "1c9e220e-f949-4dc7-bdb4-551a8d41c09e",
   "metadata": {},
   "outputs": [
    {
     "data": {
      "text/plain": [
       "(np.float64(406.41598041757356), np.float64(7.596560381636888))"
      ]
     },
     "execution_count": 5,
     "metadata": {},
     "output_type": "execute_result"
    }
   ],
   "source": [
    "kp=(9.81*0.1146*0.0305)/(4*np.pi**2*np.sqrt(2.14**2-(0.1146-0.00305)**2))\n",
    "kp*1e6, kp*(0.04/2.14)*1e6"
   ]
  },
  {
   "cell_type": "code",
   "execution_count": 6,
   "id": "0516d8e9-8fa9-45e9-aed5-80a1427809db",
   "metadata": {},
   "outputs": [
    {
     "name": "stdout",
     "output_type": "stream",
     "text": [
      "0.0078006285970839305 7.68125\n",
      "0.0001458061420015688 0.000768125\n"
     ]
    }
   ],
   "source": [
    "print(kp*983.2/1000*ts['p']**2,983.2/1000*0.25**2/8*1e3)\n",
    "print(kp*983.2/1000*ts['p']**2*(0.04/2.14), 983.2/1000*0.25**2/8 *(0.1/1000)*1e3)"
   ]
  },
  {
   "cell_type": "code",
   "execution_count": 7,
   "id": "a8bedc6d-9c4f-489f-a831-addc2a3bad65",
   "metadata": {},
   "outputs": [
    {
     "data": {
      "text/plain": [
       "(np.float64(400.19630607070394), np.float64(3.5892404864995227))"
      ]
     },
     "execution_count": 7,
     "metadata": {},
     "output_type": "execute_result"
    }
   ],
   "source": [
    "kp=(0.25**2)/(8*(ts['p']**2))\n",
    "kpsig=2*np.sqrt((0.001/0.25)**2+tsig['p']**2)\n",
    "kp*1e6,kp*kpsig*1e6"
   ]
  },
  {
   "cell_type": "code",
   "execution_count": 8,
   "id": "66dc28f7-c269-462e-ad95-4c42e8027448",
   "metadata": {},
   "outputs": [
    {
     "data": {
      "text/plain": [
       "(np.float64(2.137090685371119), np.float64(2.1703044055157235))"
      ]
     },
     "execution_count": 8,
     "metadata": {},
     "output_type": "execute_result"
    }
   ],
   "source": [
    "np.sqrt(2.14**2-(0.1146-0.00305)**2), (9.81*0.1146*0.0305)/(4*np.pi**2*kp)"
   ]
  },
  {
   "cell_type": "code",
   "execution_count": 9,
   "id": "983fad1c-a521-4c51-8d10-5d37d2c05254",
   "metadata": {},
   "outputs": [
    {
     "data": {
      "text/plain": [
       "np.float64(0.009855646341530445)"
      ]
     },
     "execution_count": 9,
     "metadata": {},
     "output_type": "execute_result"
    }
   ],
   "source": [
    "ms={'p':983.2/1000,'r':777/1000,'b':1199.3/1000,'d':584.1/1000}\n",
    "msig={'p':0.5/1000,'r':0.5/1000,'b':0.5/1000,'d':0.5/1000}\n",
    "for i in ms:\n",
    "    msig[i]/=ms[i]\n",
    "Ip=ms['p']*kp*ts['p']**2\n",
    "Ipsig=np.sqrt(msig['p']**2+kpsig**2+4*tsig['p']**2)\n",
    "Ipsig"
   ]
  },
  {
   "cell_type": "code",
   "execution_count": 10,
   "id": "4d58a7bd-9244-4f66-b3da-26fc356a7ab9",
   "metadata": {},
   "outputs": [
    {
     "name": "stdout",
     "output_type": "stream",
     "text": [
      " & $4.4183 \\pm 0.0020 $ & $7.681 \\pm 0.000 $ \\\\ \\hline\n",
      "r & $4.1850 \\pm 0.0008 $ & $12.337 \\pm 0.043 $ \\\\ \\hline\n",
      "d & $3.9513 \\pm 0.0007 $ & $9.793 \\pm 0.019 $ \\\\ \\hline\n",
      "b & $3.7620 \\pm 0.0005 $ & $12.361 \\pm 0.042 $ \\\\ \\hline\n",
      "rd & $3.9227 \\pm 0.0026 $ & $14.436 \\pm 0.072 $ \\\\ \\hline\n",
      "bd & $3.6020 \\pm 0.0016 $ & $14.365 \\pm 0.065 $ \\\\ \\hline\n",
      "br & $3.7833 \\pm 0.0030 $ & $16.953 \\pm 0.101 $ \\\\ \\hline\n",
      "{'': np.float64(0.0), 'r': np.float64(0.004656217367326208), 'd': np.float64(0.002111677642248974), 'b': np.float64(0.004680071742480326), 'rd': np.float64(0.0067548231224461245), 'bd': np.float64(0.006683790846240524), 'br': np.float64(0.00927151858072318)}\n",
      "{'': np.float64(0.009855646341530445), 'r': np.float64(0.009178869611489688), 'd': np.float64(0.009184180488635509), 'b': np.float64(0.009071877115588416), 'rd': np.float64(0.010603274377467413), 'bd': np.float64(0.009668339681284499), 'br': np.float64(0.010893545784889295)}\n"
     ]
    }
   ],
   "source": [
    "Is=dict()\n",
    "Issig=dict()\n",
    "for s in ts:\n",
    "    mt=0\n",
    "    mtsig=0\n",
    "    for st in ms:\n",
    "        mt+=(ms[st] if st in s else 0)\n",
    "        mtsig+=(msig[st] if st in s else 0)\n",
    "    I=mt*kp*ts[s]**2-Ip\n",
    "    Is[s[1:]]=I\n",
    "    Issig[s[1:]]=np.sqrt(mtsig**2+kpsig**2+4*tsig[s]**2)\n",
    "    print(s[1:],'&',\"$%.4f\" %ts[s],r'\\pm',\"%.4f $\" %tsig[s],\"& $%.3f\" %((I+Ip)*1e3),r\"\\pm %.3f $ \\\\ \\hline\" %(Issig[s[1:]]*I*1e3))\n",
    "print(Is)\n",
    "print(Issig)"
   ]
  },
  {
   "cell_type": "code",
   "execution_count": 11,
   "id": "0d49e94a-d5d8-44ba-9510-6c32e2f960e6",
   "metadata": {},
   "outputs": [
    {
     "name": "stdout",
     "output_type": "stream",
     "text": [
      "  & ~ & $4.66 \\pm 0.04 $ \\\\ \\hline\n",
      "  & ~ & $2.11 \\pm 0.02 $ \\\\ \\hline\n",
      "  & ~ & $4.68 \\pm 0.04 $ \\\\ \\hline\n"
     ]
    }
   ],
   "source": [
    "for s in ['r','d','b']:\n",
    "    print(s[1:],\" & ~ & $%.2f\" %((Is[s])*1e3),r\"\\pm %.2f $ \\\\ \\hline\" %(Issig[s]*Is[s]*1e3))"
   ]
  },
  {
   "cell_type": "code",
   "execution_count": 12,
   "id": "4b9d9d46-3e9d-4c2b-a2c6-10d6fd5ec25c",
   "metadata": {},
   "outputs": [
    {
     "data": {
      "text/plain": [
       "4.7454672825"
      ]
     },
     "execution_count": 12,
     "metadata": {},
     "output_type": "execute_result"
    }
   ],
   "source": [
    "0.777*((15.15+0.48)/200)**2*1e3"
   ]
  },
  {
   "cell_type": "code",
   "execution_count": 13,
   "id": "21420806-88ac-4f41-8011-fdf6e04e89c0",
   "metadata": {},
   "outputs": [
    {
     "data": {
      "text/plain": [
       "2.122491628125"
      ]
     },
     "execution_count": 13,
     "metadata": {},
     "output_type": "execute_result"
    }
   ],
   "source": [
    "0.5841/2*(17.05/200)**2*1e3"
   ]
  },
  {
   "cell_type": "code",
   "execution_count": 14,
   "id": "e94b8795-cdb6-4e19-bce9-01cb7b6f62bb",
   "metadata": {},
   "outputs": [
    {
     "data": {
      "text/plain": [
       "4.522360416666666"
      ]
     },
     "execution_count": 14,
     "metadata": {},
     "output_type": "execute_result"
    }
   ],
   "source": [
    "1.1993/12*(0.211**2+0.027**2)*1e3"
   ]
  },
  {
   "cell_type": "code",
   "execution_count": 15,
   "id": "5daef298-894b-4992-a5da-03dcaa6eb7b0",
   "metadata": {},
   "outputs": [
    {
     "name": "stdout",
     "output_type": "stream",
     "text": [
      "v 4.656 s 0.043\n",
      "\n",
      "v 2.112 s 0.019\n",
      "\n",
      "v 4.680 s 0.042\n",
      "\n"
     ]
    }
   ],
   "source": [
    "Is['p']=Is['']\n",
    "Issig['p']=Issig['']\n",
    "for s in ['r','d','b']:\n",
    "    s+='p'\n",
    "    print('v',\"%.3f\" % (abs(Is[s[0]])*1e3), end=' ')\n",
    "    print('s',\"%.3f\" % (np.sqrt((Is[s[0]]*Issig[s[0]])**2+(Is[s[1]]*Issig[s[1]])**2)*1e3))\n",
    "    print()"
   ]
  },
  {
   "cell_type": "code",
   "execution_count": 16,
   "id": "e457e79d-e07a-4c27-996f-938ef95bc18a",
   "metadata": {},
   "outputs": [
    {
     "name": "stdout",
     "output_type": "stream",
     "text": [
      "& $0.108$ & $0.080$ \\\\ \\hline\n",
      "& $0.065$ & $0.118$ \\\\ \\hline\n",
      "& $0.013$ & $0.086$ \\\\ \\hline\n"
     ]
    }
   ],
   "source": [
    "for s in ['bd','br','rd']:\n",
    "    print('&',\"$%.3f$\" % (abs(Is[s]-(Is[s[0]]+Is[s[1]]))*1e3), end=' ')\n",
    "    print('&',\"$%.3f$\" % (np.sqrt((Is[s]*Issig[s])**2+(Is[s[0]]*Issig[s[0]])**2+(Is[s[1]]*Issig[s[1]])**2)*1e3),end=r' \\\\ \\hline')\n",
    "    print()"
   ]
  },
  {
   "cell_type": "code",
   "execution_count": null,
   "id": "081e54d4-2db2-4ad2-a249-4cc5dfbd62bd",
   "metadata": {},
   "outputs": [],
   "source": []
  },
  {
   "cell_type": "code",
   "execution_count": 17,
   "id": "993b70b5-ffcc-4b24-a075-e4b0d825dac8",
   "metadata": {},
   "outputs": [
    {
     "data": {
      "text/html": [
       "<div>\n",
       "<style scoped>\n",
       "    .dataframe tbody tr th:only-of-type {\n",
       "        vertical-align: middle;\n",
       "    }\n",
       "\n",
       "    .dataframe tbody tr th {\n",
       "        vertical-align: top;\n",
       "    }\n",
       "\n",
       "    .dataframe thead th {\n",
       "        text-align: right;\n",
       "    }\n",
       "</style>\n",
       "<table border=\"1\" class=\"dataframe\">\n",
       "  <thead>\n",
       "    <tr style=\"text-align: right;\">\n",
       "      <th></th>\n",
       "      <th>h</th>\n",
       "      <th>t1</th>\n",
       "      <th>t2</th>\n",
       "    </tr>\n",
       "  </thead>\n",
       "  <tbody>\n",
       "    <tr>\n",
       "      <th>0</th>\n",
       "      <td>0.00</td>\n",
       "      <td>3.100667</td>\n",
       "      <td>3.090000</td>\n",
       "    </tr>\n",
       "    <tr>\n",
       "      <th>1</th>\n",
       "      <td>0.02</td>\n",
       "      <td>3.177333</td>\n",
       "      <td>3.174667</td>\n",
       "    </tr>\n",
       "    <tr>\n",
       "      <th>2</th>\n",
       "      <td>0.04</td>\n",
       "      <td>3.446000</td>\n",
       "      <td>3.446667</td>\n",
       "    </tr>\n",
       "    <tr>\n",
       "      <th>3</th>\n",
       "      <td>0.06</td>\n",
       "      <td>3.852667</td>\n",
       "      <td>3.862000</td>\n",
       "    </tr>\n",
       "    <tr>\n",
       "      <th>4</th>\n",
       "      <td>0.08</td>\n",
       "      <td>4.362667</td>\n",
       "      <td>4.361333</td>\n",
       "    </tr>\n",
       "  </tbody>\n",
       "</table>\n",
       "</div>"
      ],
      "text/plain": [
       "      h        t1        t2\n",
       "0  0.00  3.100667  3.090000\n",
       "1  0.02  3.177333  3.174667\n",
       "2  0.04  3.446000  3.446667\n",
       "3  0.06  3.852667  3.862000\n",
       "4  0.08  4.362667  4.361333"
      ]
     },
     "execution_count": 17,
     "metadata": {},
     "output_type": "execute_result"
    }
   ],
   "source": [
    "dat=pd.read_excel('gugen.xlsx')\n",
    "dat.t1/=15\n",
    "dat.t2/=15\n",
    "dat.h/=100\n",
    "\n",
    "t=(dat.t1+dat.t2)/2\n",
    "dat"
   ]
  },
  {
   "cell_type": "code",
   "execution_count": 18,
   "id": "79e7ae5a-7b48-4440-a4b4-cacacd927b28",
   "metadata": {},
   "outputs": [],
   "source": [
    "def getkb(X,Y):\n",
    "    k=(np.average(Y*X)-np.average(Y)*np.average(X))/(np.average(X*X)-np.average(X)**2)\n",
    "    b=np.average(Y)-k*np.average(X)\n",
    "    def av(n):\n",
    "        return np.average(n)\n",
    "    sigk=np.sqrt((av(Y*Y)-av(Y)*av(Y))/(av(X*X)-av(X)**2) - k*k)/np.sqrt(X.shape[0])\n",
    "    sigb=sigk*np.sqrt(av(X*X)-av(X)**2)\n",
    "    return k,b,sigk,sigb\n",
    "\n",
    "k,b,sigk,sigb=getkb(dat.h**2,t**2)"
   ]
  },
  {
   "cell_type": "code",
   "execution_count": 19,
   "id": "4e9c2703-0b23-449b-850a-0b1ce26a94e1",
   "metadata": {},
   "outputs": [
    {
     "data": {
      "text/plain": [
       "(np.float64(1483.2135600255428),\n",
       " np.float64(9.530555922605362),\n",
       " np.float64(5.815970351351825),\n",
       " np.float64(0.013723718372205462))"
      ]
     },
     "execution_count": 19,
     "metadata": {},
     "output_type": "execute_result"
    }
   ],
   "source": [
    "k,b,sigk,sigb"
   ]
  },
  {
   "cell_type": "code",
   "execution_count": 20,
   "id": "2606e360-c7fb-4b31-980b-e5f447923b67",
   "metadata": {},
   "outputs": [
    {
     "name": "stderr",
     "output_type": "stream",
     "text": [
      "The PostScript backend does not support transparency; partially transparent artists will be rendered opaque.\n"
     ]
    },
    {
     "data": {
      "image/png": "[encoded data removed]",
      "text/plain": [
       "<Figure size 640x480 with 1 Axes>"
      ]
     },
     "metadata": {},
     "output_type": "display_data"
    }
   ],
   "source": [
    "plt.minorticks_on()\n",
    "plt.grid(which='major')\n",
    "plt.grid(which='minor', linestyle=':')\n",
    "\n",
    "\n",
    "plt.plot(dat.h**2,dat.h**2*k+b,'black',linewidth=0.5,label=\"Прямая y=kx+b,\\n k=${0:.0f}\\pm{3:.0f}$ ${2}$, b=${1:.2f}\\pm{4:.2f}$ $c^2$\".format(k,b,r\"\\frac{м^2}{c^2}\",sigk,sigb))\n",
    "plt.scatter(dat.h**2,t**2,40,'r', marker='x', linewidth=1)\n",
    "\n",
    "plt.legend()\n",
    "plt.xlabel(r\"Квадрат сдвига от центра, $м^2$\")\n",
    "plt.ylabel(r\"Квадрат времени колебаний, $c^2$\")\n",
    "\n",
    "plt.savefig('imgs/graph.eps')"
   ]
  },
  {
   "cell_type": "code",
   "execution_count": 21,
   "id": "93d6f9c2-d255-4266-8975-e0fe30280c65",
   "metadata": {},
   "outputs": [],
   "source": [
    "mcyl=721/1000\n",
    "mpl=983.2/1000"
   ]
  },
  {
   "cell_type": "code",
   "execution_count": 22,
   "id": "06a4b512-7af4-4169-b60f-9a77f2f3c13d",
   "metadata": {},
   "outputs": [],
   "source": [
    "kpr=2*mcyl/(kp*(mpl+2*mcyl))"
   ]
  },
  {
   "cell_type": "code",
   "execution_count": 23,
   "id": "257ac1ee-a1b2-49b1-997c-bc562f818248",
   "metadata": {},
   "outputs": [
    {
     "data": {
      "text/plain": [
       "np.float64(0.0017046180163981894)"
      ]
     },
     "execution_count": 23,
     "metadata": {},
     "output_type": "execute_result"
    }
   ],
   "source": [
    "(kpr-k)/kpr"
   ]
  },
  {
   "cell_type": "code",
   "execution_count": 24,
   "id": "3e6630fc-c776-4577-aa27-3d6e68ee9797",
   "metadata": {},
   "outputs": [
    {
     "name": "stdout",
     "output_type": "stream",
     "text": [
      "717.9759872265238\n"
     ]
    },
    {
     "data": {
      "text/plain": [
       "np.float64(-0.004194192473614691)"
      ]
     },
     "execution_count": 24,
     "metadata": {},
     "output_type": "execute_result"
    }
   ],
   "source": [
    "mcyl2=ms['p']*k*kp/(2*(1-k*kp))\n",
    "print(mcyl2*1e3)\n",
    "(mcyl2-mcyl)/mcyl"
   ]
  },
  {
   "cell_type": "code",
   "execution_count": 26,
   "id": "831906f7-96f3-4dac-9e03-9713387b90b7",
   "metadata": {},
   "outputs": [
    {
     "data": {
      "text/plain": [
       "np.float64(0.019583462666072585)"
      ]
     },
     "execution_count": 26,
     "metadata": {},
     "output_type": "execute_result"
    }
   ],
   "source": [
    "mcyl2sig=np.sqrt(msig['p']**2+4*kpsig**2+4*(sigk/k)**2)\n",
    "mcyl2sig"
   ]
  },
  {
   "cell_type": "code",
   "execution_count": 27,
   "id": "349b5786-aa77-40ac-8ba8-e2395993739e",
   "metadata": {},
   "outputs": [
    {
     "data": {
      "text/plain": [
       "np.float64(14.060455940987236)"
      ]
     },
     "execution_count": 27,
     "metadata": {},
     "output_type": "execute_result"
    }
   ],
   "source": [
    "mcyl2*mcyl2sig*1e3"
   ]
  },
  {
   "cell_type": "code",
   "execution_count": null,
   "id": "798aedb2-83bd-4bec-9cbe-4517c4676ba1",
   "metadata": {},
   "outputs": [],
   "source": []
  }
 ],
 "metadata": {
  "kernelspec": {
   "display_name": "Python 3 (ipykernel)",
   "language": "python",
   "name": "python3"
  },
  "language_info": {
   "codemirror_mode": {
    "name": "ipython",
    "version": 3
   },
   "file_extension": ".py",
   "mimetype": "text/x-python",
   "name": "python",
   "nbconvert_exporter": "python",
   "pygments_lexer": "ipython3",
   "version": "3.10.14"
  }
 },
 "nbformat": 4,
 "nbformat_minor": 5
}
